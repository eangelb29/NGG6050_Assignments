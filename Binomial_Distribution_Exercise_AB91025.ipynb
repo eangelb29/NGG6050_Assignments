{
  "cells": [
    {
      "cell_type": "markdown",
      "metadata": {
        "id": "view-in-github",
        "colab_type": "text"
      },
      "source": [
        "<a href=\"https://colab.research.google.com/github/eangelb29/NGG6050_Assignments/blob/main/Binomial_Distribution_Exercise_AB91025.ipynb\" target=\"_parent\"><img src=\"https://colab.research.google.com/assets/colab-badge.svg\" alt=\"Open In Colab\"/></a>"
      ]
    },
    {
      "cell_type": "markdown",
      "metadata": {
        "id": "xyR_6c9wFniz"
      },
      "source": [
        "[![Open In Colab](https://colab.research.google.com/assets/colab-badge.svg)](https://colab.research.google.com/github/PennNGG/Quantitative-Neuroscience/blob/master/Probability%20Distributions/Python/Binomial.ipynb)"
      ]
    },
    {
      "cell_type": "markdown",
      "metadata": {
        "id": "pKIiY6p3GRFq"
      },
      "source": [
        "# Definition"
      ]
    },
    {
      "cell_type": "markdown",
      "metadata": {
        "id": "x7VmLUr5GTNw"
      },
      "source": [
        "The binomial distribution is a discrete probability distribution that describes the probability of obtaining exactly k successes out of n Bernoulli trials, which are individual binary outcomes that each have a success probability of p. For example, if you flip a coin 10 times, what is the probability that it will come up heads 0, 1, 2, ... 10 times?\n",
        "\n",
        "Mathematically, this distribution defines the probability of obtaining *k* successes in *n* trials given a constant probability of success *p* on each trial, which is defined as:\n",
        "\n",
        "[1] $P(X=k\\: successes)=\\left ( \\frac{n}{k} \\right )p^{k}\\left ( 1-p \\right )^{n-k}$\n",
        "\n",
        "for *k* = 0, 1, 2, ... , *n*, and where\n",
        "\n",
        "$\\left ( \\frac{n}{k} \\right )=\\frac{n!}{k!\\left ( n-k \\right )!}$\n",
        "\n",
        " is called the \"binomial coefficient\" and is pronounced \"[n-choose-k](https://www.hackmath.net/en/calculator/n-choose-k)\""
      ]
    },
    {
      "cell_type": "markdown",
      "metadata": {
        "id": "bkVu6eGKIIiQ"
      },
      "source": [
        "# Getting Started with Code\n"
      ]
    },
    {
      "cell_type": "markdown",
      "metadata": {
        "id": "gxusMZ-UN_6m"
      },
      "source": [
        "Matlab code is found in the [NGG Statistics GitHub Repository](https://github.com/PennNGG/Statistics.git) under \"Probability Distributions/Binomial.m\".\n",
        "\n",
        "Python code is included below. First run the code cell just below to make sure all of the required Python modules are loaded, then you can run the other cell(s)."
      ]
    },
    {
      "cell_type": "code",
      "execution_count": 2,
      "metadata": {
        "id": "W633IbbRIdwa"
      },
      "outputs": [],
      "source": [
        "import numpy as np\n",
        "import random as rnd\n",
        "import collections\n",
        "import matplotlib.pyplot as plt\n",
        "import time\n",
        "import scipy.stats as st\n",
        "\n",
        "from scipy.stats import bernoulli, binom, poisson, chi2\n",
        "from IPython.display import clear_output\n",
        "from operator import itemgetter\n",
        "from statsmodels.stats import proportion\n",
        "\n",
        "from numpy import matlib"
      ]
    },
    {
      "cell_type": "markdown",
      "metadata": {
        "id": "u3yXPCmMH2CH"
      },
      "source": [
        "# Tutorial"
      ]
    },
    {
      "cell_type": "code",
      "execution_count": null,
      "metadata": {
        "colab": {
          "base_uri": "https://localhost:8080/"
        },
        "id": "4ESB1xpmItGp",
        "outputId": "9c103f1c-17fa-4bed-93a5-9722572c1d5e"
      },
      "outputs": [
        {
          "output_type": "stream",
          "name": "stdout",
          "text": [
            "709 successes out of 1000 trials, simulated p = 0.7000, empirical p = 0.7090\n"
          ]
        }
      ],
      "source": [
        "# Choose some values for the parameters n and p\n",
        "p = 0.7\n",
        "n = 1000\n",
        "\n",
        "# Generate random picks. Note that this is as if we generated Bernoulli trials\n",
        "#   as above, but then just counted the successes in each \"experiment\"\n",
        "num_successes = binom.rvs(n,p) # uses the \"random variates\" method (rvs) of binom\n",
        "\n",
        "# Print out the results\n",
        "print(f'{num_successes} successes out of {n} trials, simulated p = {p:.4f}, empirical p = {num_successes/n:.4f}')"
      ]
    },
    {
      "cell_type": "code",
      "execution_count": null,
      "metadata": {
        "colab": {
          "base_uri": "https://localhost:8080/",
          "height": 472
        },
        "id": "AWJMhBIZIuFU",
        "outputId": "a95595ae-5498-421b-bf9b-eaf3617ffdc2"
      },
      "outputs": [
        {
          "output_type": "display_data",
          "data": {
            "text/plain": [
              "<Figure size 640x480 with 2 Axes>"
            ],
            "image/png": "[encoded data removed]"
          },
          "metadata": {}
        }
      ],
      "source": [
        "# The full probability distribution describes the probabilty of obtaining each\n",
        "#   possible number of successes (k), given n and p. If we set n=10, the the\n",
        "#   possible values of k are 0, 1, ..., 10. Now we use binom.rvs to simulate\n",
        "#   many different picks to get a full distribution\n",
        "p = 0.7\n",
        "n = 10                      # number of \"trials\" per \"experiment\"\n",
        "num_experiments = 1000;     # number of \"experiments\"\n",
        "outcomes = binom.rvs(n,p,size=num_experiments)\n",
        "\n",
        "# Show a bar plot (histogram) of all of the possible outcomes\n",
        "counts = collections.Counter(outcomes)\n",
        "plt.subplot(211)\n",
        "plt.bar(counts.keys(), counts.values())\n",
        "plt.xlim([-1, n+1])\n",
        "plt.title(f'Binomial distribution, n={n}, p={p:.2f}, {num_experiments} simulations')\n",
        "plt.ylabel('Count')\n",
        "\n",
        "# Show a normalized version that is a pdf. Here counts (the x-axis of the histogram)\n",
        "#   is a DISCRETE variable, so we just have to add up the values\n",
        "normalized_counts = {k: v / total for total in (sum(counts.values()),) for k, v in counts.items()}\n",
        "plt.subplot(212)\n",
        "plt.bar(normalized_counts.keys(), normalized_counts.values())\n",
        "plt.xlim([-1, n+1])\n",
        "plt.xlabel(f'Probability of success in {n} tries')\n",
        "plt.ylabel('Probability')\n",
        "plt.subplots_adjust(hspace=0.3)"
      ]
    },
    {
      "cell_type": "code",
      "execution_count": null,
      "metadata": {
        "colab": {
          "base_uri": "https://localhost:8080/",
          "height": 472
        },
        "id": "XxTbmZOSJEl8",
        "outputId": "c3014692-d21d-4cba-aee7-b6f16ce225fd"
      },
      "outputs": [
        {
          "output_type": "display_data",
          "data": {
            "text/plain": [
              "<Figure size 640x480 with 1 Axes>"
            ],
            "image/png": "[encoded data removed]"
          },
          "metadata": {}
        }
      ],
      "source": [
        "# Now let's make a fun animation showing different values of p and N.\n",
        "#   Note that, of course, the more picks you make of the random variable\n",
        "#   (higher N), the more closely the outcomes (the \"samples\") match the true\n",
        "#   distribution.\n",
        "n=10\n",
        "xs = range(0, n)\n",
        "f = plt.figure()\n",
        "for p in np.arange(0, 1, 0.1):\n",
        "    for N in np.round(np.logspace(1,5,10)):\n",
        "\n",
        "        # Get the true binomial pdf\n",
        "        Y = binom.pmf(xs,n,p)\n",
        "\n",
        "        # Get the random picks, make histogram and normalize\n",
        "        counts = collections.Counter(binom.rvs(n,p,size=int(N)))\n",
        "        normalized_counts = {k: v / total for total in (sum(counts.values()),) for k, v in counts.items()}\n",
        "\n",
        "        # Show both\n",
        "        plt.bar(normalized_counts.keys(), normalized_counts.values())\n",
        "        plt.plot(xs, Y, 'ro-', linewidth=2, markersize=10)\n",
        "\n",
        "        # Labels, etc\n",
        "        plt.title(f'p={p:.1f}, n={n}, N={N:.2f}')\n",
        "        plt.xlabel(f'Number of successes in {n} tries')\n",
        "        plt.ylabel('Probability')\n",
        "        plt.axis([-1, n+1, 0, 0.45])\n",
        "        plt.legend(('Theoretical', 'Simulated'))\n",
        "        plt.show()\n",
        "\n",
        "        # Wait\n",
        "        time.sleep(0.1)\n",
        "\n",
        "        # Clear for next plot\n",
        "        clear_output(wait=True)\n",
        "\n"
      ]
    },
    {
      "cell_type": "code",
      "execution_count": null,
      "metadata": {
        "colab": {
          "base_uri": "https://localhost:8080/",
          "height": 489
        },
        "id": "kUAJ6LCyJbRN",
        "outputId": "2fb60f54-786b-47df-9173-1aad6b0d3875"
      },
      "outputs": [
        {
          "output_type": "execute_result",
          "data": {
            "text/plain": [
              "<matplotlib.legend.Legend at 0x7dbd257dbd40>"
            ]
          },
          "metadata": {},
          "execution_count": 6
        },
        {
          "output_type": "display_data",
          "data": {
            "text/plain": [
              "<Figure size 640x480 with 1 Axes>"
            ],
            "image/png": "[encoded data removed]"
          },
          "metadata": {}
        }
      ],
      "source": [
        "# The cumulative distribution function is just the proability of obtaining an\n",
        "#   outcome that is equal to OR LESS THAN a particular value.\n",
        "p = 0.7\n",
        "n = 10                      # number of \"trials\" per \"experiment\"\n",
        "num_experiments = 1000;     # number of \"experiments\"\n",
        "outcomes = binom.rvs(n,p,size=num_experiments)\n",
        "\n",
        "# Make histogram\n",
        "counts = collections.Counter(outcomes)\n",
        "\n",
        "# Unzip keys from values in a sorted order\n",
        "keys, values = zip(*sorted(counts.items(), key=itemgetter(0)))\n",
        "\n",
        "# Compute the cumulative sum of the counts normalized by the total counts (so\n",
        "#   it is a probability function and not just a histogram -- note that the final\n",
        "#   value in the cdf should equal 1 because every value should be equal to or\n",
        "#   less than that value).\n",
        "total = sum(values)\n",
        "cumulative_ps = [x/total for x in np.cumsum(values)]\n",
        "\n",
        "# Plot as a bar graph\n",
        "plt.bar(keys, cumulative_ps)\n",
        "\n",
        "# Compare it to the real binomial cumulative distribution, which we find\n",
        "#   using binom.cdf\n",
        "Y = binom.cdf(keys,n,p)\n",
        "plt.plot(keys, Y, 'ro-', linewidth=2, markersize=10)\n",
        "\n",
        "# Labels, etc\n",
        "plt.title(f'Cumulative binomial distribution, p={p:.1f}, n={n}, N={num_experiments}')\n",
        "plt.xlabel(f'Number of successes in {n} tries')\n",
        "plt.ylabel('Cumulative probability')\n",
        "plt.legend(('Theoretical', 'Simulated'))"
      ]
    },
    {
      "cell_type": "markdown",
      "metadata": {
        "id": "NPyYR5dgJ4Q9"
      },
      "source": [
        "# Neuroscience Example: Quantal Release"
      ]
    },
    {
      "cell_type": "markdown",
      "metadata": {
        "id": "Egvzk_qLKOYl"
      },
      "source": [
        "From: Johnson, E.W., and Wernig, A. (1971). [The binomial nature of transmitter release at the crayfish neuromuscular junction](https://www.ncbi.nlm.nih.gov/pmc/articles/PMC1331610/). J Physiol 218, 757-767.\n",
        "\n",
        "Classic studies by [Bernard Katz and colleagues](https://www.ncbi.nlm.nih.gov/pmc/articles/PMC2151334/) indicated that chemical neurotransmitters are released from presynaptic nerve terminals in discrete quanta, or packets, with a relatively constant release probability. A straightforward implication of this idea is that the release statistics (i.e., the distribution of the number of quanta that are actually released in response to a given event like an action potential reaching the presynaptic nerve terminal) should follow a binomial distribution. As stated by Johnson and Wernig:\n",
        "\n",
        "\"If the average probability of release is constant, then it follows from the hypothesis that the relative frequency of 0, 1, 2, 3, . . . quantal releases in a series of trials is given by the successive terms in the binomial expansion $(p + q)^n$, where *q*=1–*p* is the average probability that a quantum will not be released. In a given trial, the probability that *x* quanta will be released (*px*) is given by the binomial term\" [i.e., Eq. 1, above, but substitute *x* for *k*].\n",
        "\n",
        "In other words, if there are *n* available quanta in a presynaptic terminal, and each is released with probability *p*, then the number of quanta that are actually released should follow a binomial distribution with parameters *n* and *p*.\n",
        "\n",
        "Answers to the exercises below will be found [here](https://github.com/PennNGG/Quantitative-Neuroscience/tree/master/Answers%20to%20Exercises/Python) after the due date."
      ]
    },
    {
      "cell_type": "markdown",
      "metadata": {
        "id": "VveIEEiyLUSk"
      },
      "source": [
        "## Exercise 1\n",
        "Assume that there are 10 quanta available in a nerve terminal, and for a given release event each is released with a probability of 0.2. For one such event, what is the probability that 0, 1, 2, 3, 4, 5, 6, 7, 8, 9, or 10 quanta will be released?"
      ]
    },
    {
      "cell_type": "code",
      "source": [
        "from scipy.stats import binom\n",
        "\n",
        "p = 0.2\n",
        "n = 10\n",
        "\n",
        "# Calculate the probability mass function (PMF) for each possible outcome (k)\n",
        "# binom.pmf(k, n, p)\n",
        "k_values = range(n + 1)\n",
        "probabilities = binom.pmf(k_values, n, p)\n",
        "\n",
        "# Print the probabilities\n",
        "for k, prob in zip(k_values, probabilities):\n",
        "    print(f'Probability of {k} quanta released: {prob:.4f}')"
      ],
      "metadata": {
        "id": "uA7NcfEC74Rj",
        "colab": {
          "base_uri": "https://localhost:8080/"
        },
        "outputId": "f2c3cdff-b717-4fac-9b49-167af8c54ac5"
      },
      "execution_count": 2,
      "outputs": [
        {
          "output_type": "stream",
          "name": "stdout",
          "text": [
            "Probability of 0 quanta released: 0.1074\n",
            "Probability of 1 quanta released: 0.2684\n",
            "Probability of 2 quanta released: 0.3020\n",
            "Probability of 3 quanta released: 0.2013\n",
            "Probability of 4 quanta released: 0.0881\n",
            "Probability of 5 quanta released: 0.0264\n",
            "Probability of 6 quanta released: 0.0055\n",
            "Probability of 7 quanta released: 0.0008\n",
            "Probability of 8 quanta released: 0.0001\n",
            "Probability of 9 quanta released: 0.0000\n",
            "Probability of 10 quanta released: 0.0000\n"
          ]
        }
      ]
    },
    {
      "cell_type": "markdown",
      "metadata": {
        "id": "eG7Kvl5pL4jf"
      },
      "source": [
        "## Exercise 2\n",
        "Let's say you know that a given nerve terminal contains exactly 14 quanta available for release. You have read in the literature that the release probability of these quanta is low, say 0.1. To assess whether this value is reasonable, you run a simple experiment: activate the nerve and measure the number of quanta that are released. The result is 8 quanta. What is the probability that you would get this result (8 quanta) if the true probability of release really was 0.1? What about if the true release probability was much higher; say, 0.7? What about for each decile of release probability (0.1, 0.2, ... 1.0)? Which value of release probability did you determine to be the most probable, given your measurement?\n",
        "\n",
        "Note: here you are computing a likelihood function: a function describing how the value of the conditional probability *p*(*data* | *parameters*) changes when you hold your data fixed to the value(s) you measured and vary the value(s) of the parameter(s) of, in this case, the binomial distribution. Because you are varying the parameters and not the data, the values of the function are not expected to sum to one (e.g., you can have numerous parameters that have a very high probability of producing the given data) and thus this function is not a probability distribution (see [here](https://www.psychologicalscience.org/observer/bayes-for-beginners-probability-and-likelihood) for an extended discussion). The maximum value of this function is called the maximum likelihood."
      ]
    },
    {
      "cell_type": "code",
      "source": [
        "p = 0.1\n",
        "n_available = 14\n",
        "\n",
        "#what is the probability that you would get 8 quanta released?\n",
        "n_released = 8\n",
        "#use probability mass function, which determines the probability of getting exactly k successes in n trials\n",
        "probability_8_quanta = binom.pmf(n_released, n_available, p)\n",
        "\n",
        "print(f'The probability of observing {n_released} quanta released from {n_available} quanta and a release probability of {p} is: {probability_8_quanta:.6f}')\n",
        "print()\n",
        "\n",
        "#What if the true release probability was 0.7?\n",
        "true_release = 0.7\n",
        "probability_true_07 = binom.pmf(n_released, n_available, true_release)\n",
        "\n",
        "print(f'The probability of observing {n_released} quanta released from {n_available} quanta and a release probability of {true_release} is: {probability_true_07:.6f}')\n",
        "print()\n",
        "\n",
        "#what about for each decile of release probability (0.1, 0.2, ..., 1.0)?\n",
        "decile_releases = [0.1, 0.2, 0.3, 0.4, 0.5, 0.6, 0.7, 0.8, 0.9, 1.0]\n",
        "\n",
        "#create a for loop to account for all releases\n",
        "for decile in decile_releases:\n",
        "    probability_decile = binom.pmf(n_released, n_available, decile)\n",
        "\n",
        "    print(f'The probability of observing {n_released} quanta released from {n_available} quanta and a release probability of {decile} is: {probability_decile:.6f}')\n",
        "\n"
      ],
      "metadata": {
        "colab": {
          "base_uri": "https://localhost:8080/"
        },
        "id": "ggfyVpmWdOSx",
        "outputId": "0f006cf6-73a0-4f12-f248-64e346b5325a"
      },
      "execution_count": 14,
      "outputs": [
        {
          "output_type": "stream",
          "name": "stdout",
          "text": [
            "The probability of observing 8 quanta released from 14 quanta and a release probability of 0.1 is: 0.000016\n",
            "\n",
            "The probability of observing 8 quanta released from 14 quanta and a release probability of 0.7 is: 0.126202\n",
            "\n",
            "The probability of observing 8 quanta released from 14 quanta and a release probability of 0.1 is: 0.000016\n",
            "The probability of observing 8 quanta released from 14 quanta and a release probability of 0.2 is: 0.002015\n",
            "The probability of observing 8 quanta released from 14 quanta and a release probability of 0.3 is: 0.023180\n",
            "The probability of observing 8 quanta released from 14 quanta and a release probability of 0.4 is: 0.091821\n",
            "The probability of observing 8 quanta released from 14 quanta and a release probability of 0.5 is: 0.183289\n",
            "The probability of observing 8 quanta released from 14 quanta and a release probability of 0.6 is: 0.206598\n",
            "The probability of observing 8 quanta released from 14 quanta and a release probability of 0.7 is: 0.126202\n",
            "The probability of observing 8 quanta released from 14 quanta and a release probability of 0.8 is: 0.032244\n",
            "The probability of observing 8 quanta released from 14 quanta and a release probability of 0.9 is: 0.001293\n",
            "The probability of observing 8 quanta released from 14 quanta and a release probability of 1.0 is: 0.000000\n"
          ]
        }
      ]
    },
    {
      "cell_type": "markdown",
      "metadata": {
        "id": "-INGaYFtM-Cp"
      },
      "source": [
        "## Exercise 3\n",
        "\n",
        "Not feeling convinced by your single experiment (good scientist!), you repeat it under identical conditions. This time you measure 5 quanta that were released. Your sample size has now doubled, to two measurements. You now want to take into account both measurements when you assess the likelihoods of different possible values of the underlying release probability. To do so, assume that the two measurements in this sample are independent of one another; that is, the value of each result had no bearing on the other. In this case, the total likelihood is simply the product of the likelihoods associated with each separate measurement. It is also typical to compute the logarithm of each likelihood and take their sum, which is often more convenient. What are the values of the total likelihood and total log-likelihood in this example, if we assume that the true release probability is 0.1?\n",
        "\n",
        "Of course, knowing those values of the likelihood and log-likelihood is not particularly useful until you can compare them to the values computed for other possible values for the release probability, so you can determine which value of release probability is most likely, given the data. Therefore, compute the full likelihood and log-likelihood functions using deciles of release probability between 0 and 1. What is the maximum value? Can you improve your estimate by computing the functions at a higher resolution? How does the estimate improve as you increase the sample size?"
      ]
    },
    {
      "cell_type": "code",
      "source": [
        "# given parameters\n",
        "n_available = 14\n",
        "release_probability = 0.1\n",
        "quanta_measurements = [8,5]\n",
        "\n",
        "# calculate each likely hood, the total likelihood, and the total log-likelihood\n",
        "likelihoods = [binom.pmf(m, n_available, release_probability) for m in quanta_measurements]\n",
        "total_likelihood = np.prod(likelihoods)\n",
        "total_log_likelihood = np.sum(np.log(likelihoods))\n",
        "\n",
        "print(f'For a release probability of {release_probability}:')\n",
        "print(f'  Likelihood of {quanta_measurements[0]} quanta: {likelihoods[0]:.6f}')\n",
        "print(f'  Likelihood of {quanta_measurements[1]} quanta: {likelihoods[1]:.6f}')\n",
        "print(f'  Total likelihood: {total_likelihood:.10f}')\n",
        "print(f'  Total log-likelihood: {total_log_likelihood:.6f}')\n",
        "print()\n",
        "\n",
        "#calculate likelihood and log-likelihood for delices of release probability\n",
        "decile_probabilities = np.arange(0.1, 1.1, 0.1)\n",
        "likelihoods_by_p = {}\n",
        "log_likelihoods_by_p = {}\n",
        "\n",
        "for p in decile_probabilities:\n",
        "    likelihoods_for_p = [binom.pmf(m, n_available, p) for m in quanta_measurements]\n",
        "    total_likelihood_for_p = np.prod(likelihoods_for_p)\n",
        "    total_log_likelihood_for_p = np.sum(np.log(likelihoods_for_p)) if total_likelihood_for_p > 0 else -np.inf #avoiding log(0), which can result in an error\n",
        "\n",
        "    #storing values in list\n",
        "    likelihoods_by_p[p] = total_likelihood_for_p\n",
        "    log_likelihoods_by_p[p] = total_log_likelihood_for_p\n",
        "\n",
        "#what is the maximum value of likelihoods and log likelihoods\n",
        "max_likelihood = max(likelihoods_by_p.values())\n",
        "best_p_likelihood = [float(p) for p, like in likelihoods_by_p.items() if like == max_likelihood]\n",
        "\n",
        "max_log_likelihood = max(log_likelihoods_by_p.values())\n",
        "best_p_log_likelihood = [float(p) for p, log_like in log_likelihoods_by_p.items() if log_like == max_log_likelihood]\n",
        "\n",
        "print(\"Likelihoods and Log-Likelihoods in different release probabilities:\")\n",
        "for p in decile_probabilities:\n",
        "    print(f'  p={p:.1f}: Likelihood={likelihoods_by_p[p]:.10f}, Log-Likelihood={log_likelihoods_by_p[p]:.6f}')\n",
        "\n",
        "print()\n",
        "\n",
        "print(f'Maximum likelihood: {max_likelihood:.10f} at p = {best_p_likelihood}')\n",
        "print(f'Maximum log-likelihood: {max_log_likelihood:.6f} at p = {best_p_log_likelihood}')"
      ],
      "metadata": {
        "colab": {
          "base_uri": "https://localhost:8080/"
        },
        "id": "WuQ7sfPBhQev",
        "outputId": "1a4f332b-c5a2-4a24-b219-c38a092eb72d"
      },
      "execution_count": 21,
      "outputs": [
        {
          "output_type": "stream",
          "name": "stdout",
          "text": [
            "For a release probability of 0.1:\n",
            "  Likelihood of 8 quanta: 0.000016\n",
            "  Likelihood of 5 quanta: 0.007756\n",
            "  Total likelihood: 0.0000001238\n",
            "  Total log-likelihood: -15.904745\n",
            "\n",
            "Likelihoods and Log-Likelihoods in different release probabilities:\n",
            "  p=0.1: Likelihood=0.0000001238, Log-Likelihood=-15.904745\n",
            "  p=0.2: Likelihood=0.0001732843, Log-Likelihood=-8.660577\n",
            "  p=0.3: Likelihood=0.0045505754, Log-Likelihood=-5.392502\n",
            "  p=0.4: Likelihood=0.0189700313, Log-Likelihood=-3.964895\n",
            "  p=0.5: Likelihood=0.0223964676, Log-Likelihood=-3.798852\n",
            "  p=0.6: Likelihood=0.0084311250, Log-Likelihood=-4.775825\n",
            "  p=0.7: Likelihood=0.0008358200, Log-Likelihood=-7.087097\n",
            "  p=0.8: Likelihood=0.0000108303, Log-Likelihood=-11.433166\n",
            "  p=0.9: Likelihood=0.0000000015, Log-Likelihood=-20.299194\n",
            "  p=1.0: Likelihood=0.0000000000, Log-Likelihood=-inf\n",
            "\n",
            "Maximum likelihood: 0.0223964676 at p = [0.5]\n",
            "Maximum log-likelihood: -3.798852 at p = [0.5]\n"
          ]
        }
      ]
    },
    {
      "cell_type": "markdown",
      "metadata": {
        "id": "GCN6aNp1N0nC"
      },
      "source": [
        "## Exercise 4\n",
        "\n",
        "You keep going and conduct 100 separate experiments and end up with these results:\n",
        "\n",
        "Measured releases\t| Count\n",
        "---------------- | -------\n",
        "0 | 0\n",
        "1 | 0\n",
        "2 | 3\n",
        "3 | 7\n",
        "4 | 10\n",
        "5 | 19\n",
        "6 | 26\n",
        "7 | 16\n",
        "8 | 16\n",
        "9 | 5\n",
        "10 | 5\n",
        "11 | 0\n",
        "12 | 0\n",
        "13 | 0\n",
        "14 | 0\n",
        "\n",
        "What is the most likely value of *p* (which we typically refer to as $\\hat{p}$, which is pronounced as \"p-hat\" and represents the maximum-likelihood estimate of a parameter in the population given our sample with a resolution of 0.01?\n",
        "\n",
        "BONUS: Use a fitting procedure to find $\\hat{p}$."
      ]
    },
    {
      "cell_type": "code",
      "source": [
        "#experimental results from table\n",
        "experimental_results = {0:0, 1:0, 2:3, 3:7, 4:10, 5:19, 6:26, 7:16, 8:16, 9:5, 10:5, 11:0, 12:0, 13:0, 14:0}\n",
        "\n",
        "quanta_available = 14\n",
        "\n",
        "#range of p values with a resolution of 0.01\n",
        "p_values = np.arange(0, 1.01, 0.01)\n",
        "\n",
        "likelihoods_by_p = {}\n",
        "log_likelihoods_by_p = {}\n",
        "\n",
        "for p in p_values:\n",
        "    total_likelihood_for_p = 1.0\n",
        "    total_log_likelihood_for_p = 0.0\n",
        "\n",
        "    for measured_releases, count in experimental_results.items():\n",
        "        # Calculate the probability of observing 'measured_releases' quanta for this p\n",
        "        if count > 0:\n",
        "          probability = binom.pmf(measured_releases, quanta_available, p)\n",
        "\n",
        "          # If probability is zero, the log-likelihood is -inf, and the total likelihood is 0\n",
        "          if probability == 0:\n",
        "              total_likelihood_for_p = 0\n",
        "              total_log_likelihood_for_p = -np.inf\n",
        "              break # No need to continue for this p if any probability is zero\n",
        "\n",
        "          # The likelihood of observing 'count' occurrences of 'measured_releases' is probability^count\n",
        "          # The log-likelihood is count * log(probability)\n",
        "          total_likelihood_for_p *= (probability ** count)\n",
        "          total_log_likelihood_for_p += count * np.log(probability)\n",
        "\n",
        "    #adding it to original array\n",
        "    likelihoods_by_p[p] = total_likelihood_for_p\n",
        "    log_likelihoods_by_p[p] = total_log_likelihood_for_p\n",
        "\n",
        "#find maximum likelihoods estimate and corresponding p value\n",
        "max_log_likelihood = -np.inf\n",
        "best_p_log_likelihood = []\n",
        "\n",
        "\n",
        "# Iterate through the results to find the maximums. Use log-likelihood for finding the maximum\n",
        "for p in p_values:\n",
        "    if log_likelihoods_by_p[p] > max_log_likelihood:\n",
        "        max_log_likelihood = log_likelihoods_by_p[p]\n",
        "        best_p_log_likelihood = [float(p)]\n",
        "    elif log_likelihoods_by_p[p] == max_log_likelihood:\n",
        "        best_p_log_likelihood.append(float(p))\n",
        "\n",
        "#Find the corresponding maximum likelihood probability value(s) for printing\n",
        "max_likelihood = -1\n",
        "best_p_likelihood = []\n",
        "if max_log_likelihood != -np.inf: # Only find likelihood if log-likelihood is not -inf\n",
        "  for p in best_p_log_likelihood:\n",
        "      if likelihoods_by_p[p] > max_likelihood:\n",
        "          max_likelihood = likelihoods_by_p[p]\n",
        "          best_p_likelihood = [float(p)]\n",
        "      elif likelihoods_by_p[p] == max_likelihood:\n",
        "          best_p_likelihood.append(float(p))\n",
        "else:\n",
        "  max_likelihood = 0\n",
        "\n",
        "\n",
        "print(\"Maximum likelihood estimate (resolution 0.01):\")\n",
        "print(f'  Maximum likelihood: {max_likelihood:.10f}')\n",
        "print(f'  Most likely p values (based on likelihood): {best_p_likelihood}')\n",
        "print(f'  Maximum log-likelihood: {max_log_likelihood:.6f}')\n",
        "print(f'  Most likely p values (based on log-likelihood): {best_p_log_likelihood}')"
      ],
      "metadata": {
        "colab": {
          "base_uri": "https://localhost:8080/"
        },
        "id": "xVUblw8GvDz-",
        "outputId": "14ff2a69-0b00-43e9-df5b-701ab5cabf14"
      },
      "execution_count": 5,
      "outputs": [
        {
          "output_type": "stream",
          "name": "stdout",
          "text": [
            "Maximum likelihood estimate (resolution 0.01):\n",
            "  Maximum likelihood: 0.0000000000\n",
            "  Most likely p values (based on likelihood): [0.44]\n",
            "  Maximum log-likelihood: -218.593512\n",
            "  Most likely p values (based on log-likelihood): [0.44]\n"
          ]
        }
      ]
    },
    {
      "cell_type": "markdown",
      "metadata": {
        "id": "9BZG29IBSo6E"
      },
      "source": [
        "## Exercise 5\n",
        "\n",
        "Let's say that you have run an exhaustive set of experiments on this synapse and have determined that the true release probability is 0.3 (within some very small tolerance). Now you want to test whether changing the temperature of the preparation affects the release probability. So you change the temperature, perform the experiment, and measure 7 quantal events for the same 14 available quanta. Compute $\\hat{p}$. Standard statistical inference now asks the question, what is the probability that you would have obtained that measurement given a Null Hypothesis of no effect? In this case, no effect corresponds to an unchanged value of the true release probability (i.e., its value remained at 0.3 even with the temperature change). What is the probability that you would have gotten that measurement if your Null Hypothesis were true? Can you conclude that temperature had an effect?"
      ]
    },
    {
      "cell_type": "code",
      "source": [
        "from scipy.stats import binom\n",
        "import numpy as np\n",
        "\n",
        "# setting parameters\n",
        "true_release_probability_null_hypothesis = 0.3\n",
        "n_available = 14\n",
        "measured_releases = 7\n",
        "\n",
        "# Compute p-hat (maximum likelihood estimate)\n",
        "p_hat = measured_releases / n_available\n",
        "\n",
        "print(f'Measured releases in the experiment: {measured_releases}')\n",
        "print(f'Available quanta: {n_available}')\n",
        "print(f'Estimated p-hat from this experiment: {p_hat:.4f}')\n",
        "print()\n",
        "\n",
        "# Calculate the probability of observing 7 quanta released if the true release probability is 0.3 (Null Hypothesis)\n",
        "probability_under_null = binom.pmf(measured_releases, n_available, true_release_probability_null_hypothesis)\n",
        "\n",
        "print(f'Probability of observing {measured_releases} quanta if true release probability is {true_release_probability_null_hypothesis}: {probability_under_null:.6f}')\n",
        "print()\n",
        "\n",
        "print(\"If our null hypothesis was 0.05, and our calculated probability was higher,\")\n",
        "print(\"this suggests the result could reasonable occur by random chance even with\")\n",
        "print(\"the true release probability of 0.3, which indicated temperature did not have an effect on this experiment\")\n",
        "\n"
      ],
      "metadata": {
        "colab": {
          "base_uri": "https://localhost:8080/"
        },
        "id": "gPGHZHscgb58",
        "outputId": "9778417d-6cb6-45a9-d11e-43a4a5d3bf47"
      },
      "execution_count": 12,
      "outputs": [
        {
          "output_type": "stream",
          "name": "stdout",
          "text": [
            "Measured releases in the experiment: 7\n",
            "Available quanta: 14\n",
            "Estimated p-hat from this experiment: 0.5000\n",
            "\n",
            "Probability of observing 7 quanta if true release probability is 0.3: 0.061813\n",
            "\n",
            "If our null hypothesis was 0.05, and our calculated probability was higher,\n",
            "this suggests the result could reasonable occur by random chance even with\n",
            "the true release probability of 0.3, which indicated temperature did not have an effect on this experiment\n"
          ]
        }
      ]
    },
    {
      "cell_type": "markdown",
      "metadata": {
        "id": "UFYyaeLwTb35"
      },
      "source": [
        "## Bonus Exercise\n",
        "\n",
        "These data are reproduced from Tables 1 and 2 of Johnson and Wernig. Note that *nx* indicates the number of trials (\"release events\") with *x* measured events. Each row is a separate experiment (don't worry about the ordering, which here is reproduced as it is in the paper).\n",
        "\n",
        "Temp (°C)\t| n0\t| n1\t| n2\t| n3\t| n4\t| n5+\n",
        "--- | --| --- | --- | --- | --- | ---\n",
        "4.0\t| 615\t| 206\t| 33\t| 2\t| 0\t| 0\n",
        "3.5\t| 604\t| 339\t| 94\t| 11\t| 2\t| 0\n",
        "0.0 | \t332\t| 126\t| 21\t| 1\t| 0\t| 0\n",
        "2.0\t| 573\t| 443\t| 154\t| 28\t| 2\t| 0\n",
        "6.5\t| 172\t| 176\t| 89\t| 12\t| 1\t| 0\n",
        "3.0\t| 80\t| 224\t| 200\t| 32\t| 4\t| 0\n",
        "\n",
        "You can probably already see that some experiments resulted in primarily zero or one events per trial (e.g., the top experiment), whereas others tended to have more events (e.g., the bottom experiment).\n",
        "\n",
        "Do the quantal event numbers follow a binomial distribution? If so, then that would lend support to the idea that the events are generated by a process that can be characterized in terms of the number of available quanta and the average probability of release of each quantum.\n",
        "\n",
        "Provide a qualitative answer to this question by comparing the empirical distributions (see the data table, above) to the predicted binomial distribution. To get the predicted distribution (i.e., the probabilities associated with each value of *k* from Eq. 1, given the release probability p and the number of available quanta *n*), you need to determine both *k* and *n* from the empirical measurements. To determine *p*, use Eq. 5 in the paper: $p=1-\\frac{\\sigma ^{2}}{m}$\n",
        "\n",
        "where $\\sigma ^{2}$ is the variance and *m* is the mean of the trial-by-trial counts that can be determined from the data. To determine *n*, compute *m*/*p* (because *m* = *n* x *p*).\n",
        "\n",
        "As an added bonus, also include the predicted Poisson distribution, which can be computed using only the mean number of events (*m*, described above).\n",
        "\n"
      ]
    },
    {
      "cell_type": "markdown",
      "metadata": {
        "id": "TxctXRrXQqv4"
      },
      "source": [
        "# Additional Resources\n",
        "\n",
        "Working with the binomial distribution in [Matlab](https://www.mathworks.com/help/stats/binomial-distribution.html), [R](https://www.rdocumentation.org/packages/stats/versions/3.3/topics/Binomial), and [Python](https://docs.scipy.org/doc/scipy/reference/generated/scipy.stats.binom.html)."
      ]
    },
    {
      "cell_type": "markdown",
      "metadata": {
        "id": "tteEm2Qlgbb3"
      },
      "source": [
        "# Credits\n",
        "\n",
        "Copyright 2021 by Joshua I. Gold, University of Pennsylvania"
      ]
    }
  ],
  "metadata": {
    "colab": {
      "collapsed_sections": [
        "9BZG29IBSo6E",
        "UFYyaeLwTb35"
      ],
      "provenance": [],
      "toc_visible": true,
      "include_colab_link": true
    },
    "kernelspec": {
      "display_name": "Python 3",
      "name": "python3"
    },
    "language_info": {
      "name": "python"
    }
  },
  "nbformat": 4,
  "nbformat_minor": 0
}